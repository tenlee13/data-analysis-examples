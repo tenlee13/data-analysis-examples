{
 "cells": [
  {
   "cell_type": "code",
   "execution_count": 33,
   "metadata": {},
   "outputs": [],
   "source": [
    "import pandas as pd\n",
    "import numpy as np\n",
    "import re"
   ]
  },
  {
   "cell_type": "code",
   "execution_count": 34,
   "metadata": {},
   "outputs": [],
   "source": [
    "df = pd.read_csv('data/Minjust2018.csv', \n",
    "                 header=None, \n",
    "                 usecols=[4, 27, 28, 33])\n",
    "df.fillna('', inplace=True)\n",
    "df.rename(columns={4: 'name', \n",
    "                   27: 'director', \n",
    "                   28: 'activity', \n",
    "                   33: 'founders'},\n",
    "              inplace = True)"
   ]
  },
  {
   "cell_type": "code",
   "execution_count": 35,
   "metadata": {},
   "outputs": [],
   "source": [
    "def child_regex(surname, name):\n",
    "    pattern = re.compile(surname +\n",
    "                         r'а?\\s+\\w+\\s+' + # First name\n",
    "                         remove_vowels(name) + # Patronymic\n",
    "                         r'|' + \n",
    "                         r'\\w+\\s+' + # First name\n",
    "                         remove_vowels(name) + r'\\w+\\s+' + # Patronymic\n",
    "                         surname,\n",
    "                         re.IGNORECASE)\n",
    "    return pattern\n",
    "\n",
    "def remove_vowels(name):\n",
    "    while True:\n",
    "        if name[-1] not in ['а', 'о', 'и', 'е', 'ё', 'э', 'ы', 'у', 'ю', 'я', 'й']:\n",
    "            break\n",
    "        else:\n",
    "            name = name[: -1]\n",
    "    return name"
   ]
  },
  {
   "cell_type": "code",
   "execution_count": 36,
   "metadata": {},
   "outputs": [
    {
     "data": {
      "text/html": [
       "<div>\n",
       "<style scoped>\n",
       "    .dataframe tbody tr th:only-of-type {\n",
       "        vertical-align: middle;\n",
       "    }\n",
       "\n",
       "    .dataframe tbody tr th {\n",
       "        vertical-align: top;\n",
       "    }\n",
       "\n",
       "    .dataframe thead th {\n",
       "        text-align: right;\n",
       "    }\n",
       "</style>\n",
       "<table border=\"1\" class=\"dataframe\">\n",
       "  <thead>\n",
       "    <tr style=\"text-align: right;\">\n",
       "      <th></th>\n",
       "      <th>name</th>\n",
       "      <th>director</th>\n",
       "      <th>activity</th>\n",
       "      <th>founders</th>\n",
       "    </tr>\n",
       "  </thead>\n",
       "  <tbody>\n",
       "    <tr>\n",
       "      <th>21872</th>\n",
       "      <td>Общественный фонд \"Kloop Media\"(Клоп Медиа)</td>\n",
       "      <td>Гапарова Галина Ивановна</td>\n",
       "      <td>Деятельность прочих общественных организаций, ...</td>\n",
       "      <td>Тухватшин Ринат Рустамович, Искендер Бектур</td>\n",
       "    </tr>\n",
       "    <tr>\n",
       "      <th>79704</th>\n",
       "      <td>Общественный фонд \"КООМАР МЕДИА\"</td>\n",
       "      <td>Гапарова Галина Ивановна</td>\n",
       "      <td>Деятельность прочих общественных организаций, ...</td>\n",
       "      <td>Гапарова Галина Ивановна, Тухватшин Ринат Руст...</td>\n",
       "    </tr>\n",
       "  </tbody>\n",
       "</table>\n",
       "</div>"
      ],
      "text/plain": [
       "                                               name                  director  \\\n",
       "21872  Общественный фонд \"Kloop Media\"(Клоп Медиа)   Гапарова Галина Ивановна   \n",
       "79704              Общественный фонд \"КООМАР МЕДИА\"  Гапарова Галина Ивановна   \n",
       "\n",
       "                                                activity  \\\n",
       "21872  Деятельность прочих общественных организаций, ...   \n",
       "79704  Деятельность прочих общественных организаций, ...   \n",
       "\n",
       "                                                founders  \n",
       "21872        Тухватшин Ринат Рустамович, Искендер Бектур  \n",
       "79704  Гапарова Галина Ивановна, Тухватшин Ринат Руст...  "
      ]
     },
     "execution_count": 36,
     "metadata": {},
     "output_type": "execute_result"
    }
   ],
   "source": [
    "df.loc[df['founders'].str.contains(child_regex('Тухватшин', 'Рустам'))]"
   ]
  },
  {
   "cell_type": "code",
   "execution_count": null,
   "metadata": {},
   "outputs": [],
   "source": []
  }
 ],
 "metadata": {
  "kernelspec": {
   "display_name": "Python 3",
   "language": "python",
   "name": "python3"
  },
  "language_info": {
   "codemirror_mode": {
    "name": "ipython",
    "version": 3
   },
   "file_extension": ".py",
   "mimetype": "text/x-python",
   "name": "python",
   "nbconvert_exporter": "python",
   "pygments_lexer": "ipython3",
   "version": "3.7.1"
  }
 },
 "nbformat": 4,
 "nbformat_minor": 2
}
